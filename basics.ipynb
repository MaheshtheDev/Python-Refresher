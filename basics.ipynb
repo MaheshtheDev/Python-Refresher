{
 "cells": [
  {
   "cell_type": "code",
   "execution_count": 4,
   "metadata": {},
   "outputs": [
    {
     "name": "stdout",
     "output_type": "stream",
     "text": [
      "4.5 Hello world 87 False | Hello world\n"
     ]
    }
   ],
   "source": [
    "print(4.5, \"Hello world\", 87, False, end=\" | \")\n",
    "print(\"Hello world\")"
   ]
  },
  {
   "cell_type": "code",
   "execution_count": 8,
   "metadata": {},
   "outputs": [
    {
     "name": "stdout",
     "output_type": "stream",
     "text": [
      "no mahesh\n"
     ]
    }
   ],
   "source": [
    "# variables\n",
    "hello = \"mahesh\"\n",
    "world = \"world\"\n",
    "world = hello\n",
    "hello = \"no\"\n",
    "print(hello, world)\n",
    "\n",
    "# naming conventions '_' in b/w instead of firstName, stick to snake case\n"
   ]
  },
  {
   "cell_type": "code",
   "execution_count": 11,
   "metadata": {},
   "outputs": [
    {
     "name": "stdout",
     "output_type": "stream",
     "text": [
      "Hello Mahi you are 23 years old\n"
     ]
    }
   ],
   "source": [
    "name = input('Name: ')\n",
    "age = input(\"Age: \")\n",
    "print(\"Hello\", name, 'you are', age, 'years old')"
   ]
  },
  {
   "cell_type": "code",
   "execution_count": 21,
   "metadata": {},
   "outputs": [
    {
     "name": "stdout",
     "output_type": "stream",
     "text": [
      "Add  12.5\n",
      "Sub 3.0  Another Sub:  3\n",
      "Sub with cast -3\n"
     ]
    }
   ],
   "source": [
    "# Operations\n",
    "x = 9\n",
    "y = 3.5\n",
    "# we do operations on float and int same time\n",
    "result = x + y\n",
    "print(\"Add \", result)\n",
    "\n",
    "x = 9\n",
    "y = 3\n",
    "# in div it always results us float, cause its not sure what was the value\n",
    "result = x/ y\n",
    "# double div will always returns the no float\n",
    "result2 = x // y\n",
    "print(\"Sub\", result, \" Another Sub: \", result2)\n",
    "\n",
    "num = input('Number: ')\n",
    "print(\"Sub with cast\", int(num) - 5)"
   ]
  },
  {
   "cell_type": "code",
   "execution_count": 29,
   "metadata": {},
   "outputs": [
    {
     "name": "stdout",
     "output_type": "stream",
     "text": [
      "Mahesh\n",
      "1\n"
     ]
    }
   ],
   "source": [
    "# String methods\n",
    "hello = \"mahesh\"\n",
    "print(hello.capitalize())\n",
    "print(hello.capitalize().count('Ma'))"
   ]
  },
  {
   "cell_type": "code",
   "execution_count": 33,
   "metadata": {},
   "outputs": [
    {
     "name": "stdout",
     "output_type": "stream",
     "text": [
      "helloyes\n"
     ]
    }
   ],
   "source": [
    "x = \"hello\"\n",
    "y = \"yes\"\n",
    "\n",
    "print(x+y)"
   ]
  },
  {
   "cell_type": "code",
   "execution_count": 37,
   "metadata": {},
   "outputs": [
    {
     "name": "stdout",
     "output_type": "stream",
     "text": [
      "True\n",
      "90\n",
      "97\n"
     ]
    }
   ],
   "source": [
    "# Ordinal comparison\n",
    "print('a' > 'Z')\n",
    "print(ord('Z'))\n",
    "print(ord('a'))"
   ]
  },
  {
   "cell_type": "code",
   "execution_count": 47,
   "metadata": {},
   "outputs": [
    {
     "name": "stdout",
     "output_type": "stream",
     "text": [
      "2\n",
      "True\n",
      "False\n"
     ]
    }
   ],
   "source": [
    "# Conditions Operators\n",
    "# and, or, not\n",
    "x = 2\n",
    "y = 0\n",
    "print(x or y)\n",
    "print(x and not y)\n",
    "# and first, or second, not third\n",
    "print(not(False and True or True))"
   ]
  }
 ],
 "metadata": {
  "kernelspec": {
   "display_name": "Python 3",
   "language": "python",
   "name": "python3"
  },
  "language_info": {
   "codemirror_mode": {
    "name": "ipython",
    "version": 3
   },
   "file_extension": ".py",
   "mimetype": "text/x-python",
   "name": "python",
   "nbconvert_exporter": "python",
   "pygments_lexer": "ipython3",
   "version": "3.9.6"
  },
  "orig_nbformat": 4
 },
 "nbformat": 4,
 "nbformat_minor": 2
}
